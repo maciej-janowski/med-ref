{
 "cells": [
  {
   "cell_type": "code",
   "execution_count": 1,
   "metadata": {},
   "outputs": [],
   "source": [
    "TEST_TYPE = (\n",
    "        ('ANALITYKA OGÓLNA - Badanie ogólne moczu','ANALITYKA OGÓLNA - Badanie ogólne moczu'),\n",
    "        ('ANALITYKA OGÓLNA - Kał badanie ogólne','ANALITYKA OGÓLNA - Kał badanie ogólne'),\n",
    "        ('HEMATOLOGIA - Morfologia krwi','HEMATOLOGIA - Morfologia krwi'),\n",
    "        ('HEMATOLOGIA - OB','HEMATOLOGIA - OB'),\n",
    "        ('KOAGULOGIA - Fibrogen','KOAGULOGIA - Fibrogen'),\n",
    "        ('KOAGULOGIA - TT','KOAGULOGIA - TT'),\n",
    "        ('CHEMIA KLINICZNA - Glukoza','CHEMIA KLINICZNA - Glukoza'),\n",
    "        ('CHEMIA KLINICZNA - Sód',''),\n",
    "        ('CHEMIA KLINICZNA - Potas',''),\n",
    "        ('CHEMIA KLINICZNA - Wapń',''),\n",
    "        ('CHEMIA KLINICZNA - Kreatynina',''),\n",
    "        ('CHEMIA KLINICZNA - Billirubina całkowita',''),\n",
    "        ('CHEMIA KLINICZNA - ALP',''),\n",
    "        ('CHEMIA KLINICZNA - Amylaza',''),\n",
    "        ('CHEMIA KLINICZNA - Lipaza',''),\n",
    "        ('CHEMIA KLINICZNA - Profil lipidowy',''),\n",
    "        ('CHEMIA KLINICZNA - Triglierydy',''),\n",
    "        ('CHEMIA KLINICZNA - Żelazo',''),\n",
    "        ('CHEMIA KLINICZNA - Ferrytyna',''),\n",
    "        ('CHEMIA KLINICZNA - Hemocysteina',''),\n",
    "        ('CHEMIA KLINICZNA - Albumina',''),\n",
    "        ('CHEMIA KLINICZNA - Białko całkowite',''),\n",
    "        ('MARKERY KARDIOLOGICZNE - CKMB aktywność',''),\n",
    "        ('MARKERY NOWOTWOROWE - AFP',''),\n",
    "        ('MARKERY NOWOTWOROWE - PSA całkowity',''),\n",
    "        ('ENDOKRYNOLOGIA - Progesteron',''),\n",
    "        ('ENDOKRYNOLOGIA - Kortyzol',''),\n",
    "        ('ENDOKRYNOLOGIA - Insulina',''),\n",
    "        ('ENDOKRYNOLOGIA - Prolaktyna',''),\n",
    "        ('DIAGNOSTYKA INFEKCJI - Anty HCV',''),\n",
    "        ('DIAGNOSTYKA INFEKCJI - Odra IgG',''),\n",
    "        ('DIAGNOSTYKA INFEKCJI - Ospa IgG',''),\n",
    "        ('DIAGNOSTYKA INFEKCJI - Glista ludzka IgG',''),\n",
    "        ('AUTOIMMUNOLOGIA - ANA ELISA',''),\n",
    "        ('AUTOIMMUNOLOGIA - dsDNA',''),\n",
    "        ('ALERGOLOGIA - Zestaw pokarmowy 20',''),\n",
    "        ('ALERGOLOGIA - Zestaw wziewny 20',''),\n",
    "        ('BADANIE MOCZU - Białko w moczu',''),\n",
    "        ('BADANIE MOCZU - Kreatynina w moczu',''),\n",
    "        \n",
    "    )"
   ]
  },
  {
   "cell_type": "code",
   "execution_count": 2,
   "metadata": {},
   "outputs": [
    {
     "data": {
      "text/plain": [
       "[('ANALITYKA OGÓLNA - Badanie ogólne moczu',\n",
       "  'ANALITYKA OGÓLNA - Badanie ogólne moczu'),\n",
       " ('ANALITYKA OGÓLNA - Kał badanie ogólne',\n",
       "  'ANALITYKA OGÓLNA - Kał badanie ogólne'),\n",
       " ('HEMATOLOGIA - Morfologia krwi', 'HEMATOLOGIA - Morfologia krwi'),\n",
       " ('HEMATOLOGIA - OB', 'HEMATOLOGIA - OB'),\n",
       " ('KOAGULOGIA - Fibrogen', 'KOAGULOGIA - Fibrogen'),\n",
       " ('KOAGULOGIA - TT', 'KOAGULOGIA - TT'),\n",
       " ('CHEMIA KLINICZNA - Glukoza', 'CHEMIA KLINICZNA - Glukoza'),\n",
       " ('CHEMIA KLINICZNA - Sód', 'CHEMIA KLINICZNA - Sód'),\n",
       " ('CHEMIA KLINICZNA - Potas', 'CHEMIA KLINICZNA - Potas'),\n",
       " ('CHEMIA KLINICZNA - Wapń', 'CHEMIA KLINICZNA - Wapń'),\n",
       " ('CHEMIA KLINICZNA - Kreatynina', 'CHEMIA KLINICZNA - Kreatynina'),\n",
       " ('CHEMIA KLINICZNA - Billirubina całkowita',\n",
       "  'CHEMIA KLINICZNA - Billirubina całkowita'),\n",
       " ('CHEMIA KLINICZNA - ALP', 'CHEMIA KLINICZNA - ALP'),\n",
       " ('CHEMIA KLINICZNA - Amylaza', 'CHEMIA KLINICZNA - Amylaza'),\n",
       " ('CHEMIA KLINICZNA - Lipaza', 'CHEMIA KLINICZNA - Lipaza'),\n",
       " ('CHEMIA KLINICZNA - Profil lipidowy', 'CHEMIA KLINICZNA - Profil lipidowy'),\n",
       " ('CHEMIA KLINICZNA - Triglierydy', 'CHEMIA KLINICZNA - Triglierydy'),\n",
       " ('CHEMIA KLINICZNA - Żelazo', 'CHEMIA KLINICZNA - Żelazo'),\n",
       " ('CHEMIA KLINICZNA - Ferrytyna', 'CHEMIA KLINICZNA - Ferrytyna'),\n",
       " ('CHEMIA KLINICZNA - Hemocysteina', 'CHEMIA KLINICZNA - Hemocysteina'),\n",
       " ('CHEMIA KLINICZNA - Albumina', 'CHEMIA KLINICZNA - Albumina'),\n",
       " ('CHEMIA KLINICZNA - Białko całkowite',\n",
       "  'CHEMIA KLINICZNA - Białko całkowite'),\n",
       " ('MARKERY KARDIOLOGICZNE - CKMB aktywność',\n",
       "  'MARKERY KARDIOLOGICZNE - CKMB aktywność'),\n",
       " ('MARKERY NOWOTWOROWE - AFP', 'MARKERY NOWOTWOROWE - AFP'),\n",
       " ('MARKERY NOWOTWOROWE - PSA całkowity',\n",
       "  'MARKERY NOWOTWOROWE - PSA całkowity'),\n",
       " ('ENDOKRYNOLOGIA - Progesteron', 'ENDOKRYNOLOGIA - Progesteron'),\n",
       " ('ENDOKRYNOLOGIA - Kortyzol', 'ENDOKRYNOLOGIA - Kortyzol'),\n",
       " ('ENDOKRYNOLOGIA - Insulina', 'ENDOKRYNOLOGIA - Insulina'),\n",
       " ('ENDOKRYNOLOGIA - Prolaktyna', 'ENDOKRYNOLOGIA - Prolaktyna'),\n",
       " ('DIAGNOSTYKA INFEKCJI - Anty HCV', 'DIAGNOSTYKA INFEKCJI - Anty HCV'),\n",
       " ('DIAGNOSTYKA INFEKCJI - Odra IgG', 'DIAGNOSTYKA INFEKCJI - Odra IgG'),\n",
       " ('DIAGNOSTYKA INFEKCJI - Ospa IgG', 'DIAGNOSTYKA INFEKCJI - Ospa IgG'),\n",
       " ('DIAGNOSTYKA INFEKCJI - Glista ludzka IgG',\n",
       "  'DIAGNOSTYKA INFEKCJI - Glista ludzka IgG'),\n",
       " ('AUTOIMMUNOLOGIA - ANA ELISA', 'AUTOIMMUNOLOGIA - ANA ELISA'),\n",
       " ('AUTOIMMUNOLOGIA - dsDNA', 'AUTOIMMUNOLOGIA - dsDNA'),\n",
       " ('ALERGOLOGIA - Zestaw pokarmowy 20', 'ALERGOLOGIA - Zestaw pokarmowy 20'),\n",
       " ('ALERGOLOGIA - Zestaw wziewny 20', 'ALERGOLOGIA - Zestaw wziewny 20'),\n",
       " ('BADANIE MOCZU - Białko w moczu', 'BADANIE MOCZU - Białko w moczu'),\n",
       " ('BADANIE MOCZU - Kreatynina w moczu', 'BADANIE MOCZU - Kreatynina w moczu')]"
      ]
     },
     "execution_count": 2,
     "metadata": {},
     "output_type": "execute_result"
    }
   ],
   "source": [
    "[(x[0],x[0]) for x in TEST_TYPE]"
   ]
  },
  {
   "cell_type": "code",
   "execution_count": null,
   "metadata": {},
   "outputs": [],
   "source": []
  }
 ],
 "metadata": {
  "interpreter": {
   "hash": "4b51ee001006f609a941f6b31619b0c9447d01598cddc5d69154d03d7b9e5510"
  },
  "kernelspec": {
   "display_name": "Python 3.8.5 ('venv': venv)",
   "language": "python",
   "name": "python3"
  },
  "language_info": {
   "codemirror_mode": {
    "name": "ipython",
    "version": 3
   },
   "file_extension": ".py",
   "mimetype": "text/x-python",
   "name": "python",
   "nbconvert_exporter": "python",
   "pygments_lexer": "ipython3",
   "version": "3.8.5"
  },
  "orig_nbformat": 4
 },
 "nbformat": 4,
 "nbformat_minor": 2
}
